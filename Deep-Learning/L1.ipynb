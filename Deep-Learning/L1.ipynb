{
 "cells": [
  {
   "cell_type": "markdown",
   "metadata": {},
   "source": [
    "Udacity－Deep Learning－L1: ML 2 DL"
   ]
  },
  {
   "cell_type": "markdown",
   "metadata": {},
   "source": [
    "思考：softmax／logistic 的input output是什么？公式怎么就能分成几类的？"
   ]
  },
  {
   "cell_type": "markdown",
   "metadata": {},
   "source": [
    "Quiz: Softmax\n",
    "Note: Your softmax(x) function should return a NumPy array of the same shape as x.\n",
    "\n",
    "Softmax\n",
    "\n",
    "Poll的笔记 http://www.cnblogs.com/maybe2030/p/5678387.html\n",
    "softmax函数的本质就是将一个KK维的任意实数向量压缩（映射）成另一个KK维的实数向量，其中向量中的每个元素取值都介于（0，1）之间。\n",
    "\n",
    "logistic具体针对的是二分类问题，而softmax解决的是多分类问题，因此从这个角度也可以理解logistic函数是softmax函数的一个特例。可推导。UFLDL教程中的推导，http://ufldl.stanford.edu/wiki/index.php/Softmax%E5%9B%9E%E5%BD%92\n",
    "\n",
    "softmax建模使用的分布是多项式分布，而logistic则基于伯努利分布\n",
    "\n",
    "softmax回归进行的多分类，类与类之间是互斥的，即一个输入只能被归为一类；\n",
    "\n",
    "多个logistic回归进行多分类，输出的类别并不是互斥的，即\"苹果\"这个词语既属于\"水果\"类也属于\"3C\"类别。\n",
    "\n",
    "\n",
    "https://www.zhihu.com/question/23765351\n",
    "想用假设函数针对每一个类别j估算出概率值\n",
    "代价函数为：\n",
    "\n",
    "如果类别之间是互斥的，适合用softmax；如果类别之间允许重叠，应该选择k个logistic分类器。\n"
   ]
  },
  {
   "cell_type": "code",
   "execution_count": 9,
   "metadata": {
    "collapsed": false
   },
   "outputs": [
    {
     "name": "stdout",
     "output_type": "stream",
     "text": [
      "[ 0.8360188   0.11314284  0.05083836]\n"
     ]
    },
    {
     "data": {
      "image/png": "[encoded data removed]",
      "text/plain": [
       "<matplotlib.figure.Figure at 0x112ed74d0>"
      ]
     },
     "metadata": {},
     "output_type": "display_data"
    }
   ],
   "source": [
    "\"\"\"Softmax.\"\"\"\n",
    "\n",
    "scores = [3.0, 1.0, 0.2]\n",
    "\n",
    "import numpy as np\n",
    "\n",
    "def softmax(x):\n",
    "    \"\"\"Compute softmax values for each sets of scores in x.\"\"\"\n",
    "    return np.exp(x)/np.sum(np.exp(x),axis=0)   # TODO: Compute and return softmax(x)\n",
    "\n",
    "print(softmax(scores))\n",
    "\n",
    "\n",
    "\n",
    "# Plot softmax curves\n",
    "import matplotlib.pyplot as plt\n",
    "%matplotlib inline\n",
    "\n",
    "x = np.arange(-2.0, 6.0, 0.1)\n",
    "scores = np.vstack([x, np.ones_like(x), 0.2 * np.ones_like(x)])\n",
    "\n",
    "# np.vstack: \n",
    "# Take a sequence of arrays and stack them vertically to make a single array.\n",
    "\n",
    "plt.plot(x, softmax(scores).T, linewidth=2)\n",
    "plt.show()\n"
   ]
  },
  {
   "cell_type": "code",
   "execution_count": 19,
   "metadata": {
    "collapsed": false
   },
   "outputs": [
    {
     "data": {
      "text/plain": [
       "[<matplotlib.lines.Line2D at 0x1132c7e10>]"
      ]
     },
     "execution_count": 19,
     "metadata": {},
     "output_type": "execute_result"
    },
    {
     "data": {
      "image/png": "[encoded data removed]",
      "text/plain": [
       "<matplotlib.figure.Figure at 0x1132c7dd0>"
      ]
     },
     "metadata": {},
     "output_type": "display_data"
    }
   ],
   "source": [
    "scores = np.array([3.0, 1.0, 0.2])\n",
    "plt.plot(softmax(scores*10))\n",
    "plt.plot(softmax(scores/10))\n",
    "plt.plot(softmax(scores))\n"
   ]
  },
  {
   "cell_type": "markdown",
   "metadata": {},
   "source": [
    "One-Hot Encoding\n",
    "    One-Hot编码，又称为一位有效编码，主要是采用位状态寄存器来对个状态进行编码，每个状态都由他独立的寄存器位，并且在任意时候只有一位有效。\n",
    "   https://www.quora.com/What-is-one-hot-encoding-and-when-is-it-used-in-data-science\n",
    "   \n",
    "   "
   ]
  },
  {
   "cell_type": "markdown",
   "metadata": {},
   "source": [
    "cross entropy\n",
    "http://www.cse.unsw.edu.au/~billw/cs9444/crossentropy.html\n",
    "The cross-entropy measure has been used as an alternative to squared error. \n",
    " can be used as an error measure when a network's outputs can be thought of as representing independent hypotheses \n",
    " cross-entropy - indicates the distance between what the network believes this distribution should be, and what the teacher says it should be. \n",
    " \n",
    " Why You Should Use Cross-Entropy Error Instead Of Classification Error Or Mean Squared Error For Neural Network Classifier Training\n",
    " https://jamesmccaffrey.wordpress.com/2013/11/05/why-you-should-use-cross-entropy-error-instead-of-classification-error-or-mean-squared-error-for-neural-network-classifier-training/\n",
    " \n",
    " When using a neural network to perform classification and prediction, it is usually better to use cross-entropy error than classification error\n",
    " \n",
    "  average cross-entropy error (ACE) \n",
    "MSE isn’t a hideously bad approach but if you think about how MSE is computed you’ll see that, compared to ACE, MSE gives too much emphasis to the incorrect outputs. \n",
    "\n",
    "\n",
    "After training, to get an estimate of the effectiveness of the neural network, classification error is usually preferable to MSE or ACE. The idea is that classification error is ultimately what you’re interested in.\n",
    "\n",
    "To summarize, for a neural network classifier, during training you can use mean squared error or average cross-entropy error, and average cross-entropy error is considered slightly better. If you are using back-propagation, the choice of MSE or ACE affects the computation of the gradient. After training, to estimate the effectiveness of the neural network it’s better to use classification error."
   ]
  },
  {
   "cell_type": "code",
   "execution_count": 22,
   "metadata": {
    "collapsed": false
   },
   "outputs": [
    {
     "name": "stdout",
     "output_type": "stream",
     "text": [
      "0.953674316406\n"
     ]
    }
   ],
   "source": [
    "# Numerical Stability\n",
    "\n",
    "a = 1000000000\n",
    "for i in range(1000000):\n",
    "    a = a + 1e-6\n",
    "print a-1000000000"
   ]
  }
 ],
 "metadata": {
  "kernelspec": {
   "display_name": "Python 2",
   "language": "python",
   "name": "python2"
  },
  "language_info": {
   "codemirror_mode": {
    "name": "ipython",
    "version": 2
   },
   "file_extension": ".py",
   "mimetype": "text/x-python",
   "name": "python",
   "nbconvert_exporter": "python",
   "pygments_lexer": "ipython2",
   "version": "2.7.12"
  }
 },
 "nbformat": 4,
 "nbformat_minor": 0
}
