{
 "cells": [
  {
   "cell_type": "markdown",
   "metadata": {},
   "source": [
    "## 1. 正则表达式"
   ]
  },
  {
   "cell_type": "code",
   "execution_count": 1,
   "metadata": {
    "collapsed": false
   },
   "outputs": [
    {
     "name": "stdout",
     "output_type": "stream",
     "text": [
      "hadkfalifexxIxxfasdjifja134xxlovexx23345sdfxxyouxx8dfse\n"
     ]
    }
   ],
   "source": [
    "#-*-coding:utf8-*-\n",
    "\n",
    "# 导入re，正则表达式库文件\n",
    "import re\n",
    "# from re import findall,search,S\n",
    "\n",
    "secret_code = 'hadkfalifexxIxxfasdjifja134xxlovexx23345sdfxxyouxx8dfse'\n",
    "print secret_code"
   ]
  },
  {
   "cell_type": "code",
   "execution_count": 3,
   "metadata": {
    "collapsed": false
   },
   "outputs": [
    {
     "name": "stdout",
     "output_type": "stream",
     "text": [
      "['xy']\n",
      "['xy1']\n"
     ]
    }
   ],
   "source": [
    "# .的使用举例：.就是占位符，几个 . 就是几个符号\n",
    "# 在 a 中找 x.\n",
    "a = 'xy123'\n",
    "b1 = re.findall('x.',a)\n",
    "print b1\n",
    "\n",
    "b2 = re.findall('x..',a)\n",
    "print b2"
   ]
  },
  {
   "cell_type": "code",
   "execution_count": 6,
   "metadata": {
    "collapsed": false
   },
   "outputs": [
    {
     "name": "stdout",
     "output_type": "stream",
     "text": [
      "['x', '', 'x', '', 'xxx', '', '', '', '']\n"
     ]
    }
   ],
   "source": [
    "# *的使用举例：＊ 可以匹配前一个字符 0 次或者 无数次\n",
    "a = 'xyxyxxx123'\n",
    "b = re.findall('x*',a)\n",
    "print b"
   ]
  },
  {
   "cell_type": "code",
   "execution_count": 7,
   "metadata": {
    "collapsed": false
   },
   "outputs": [
    {
     "name": "stdout",
     "output_type": "stream",
     "text": [
      "['x', '', 'x', '', 'x', 'x', 'x', '', '', '', '']\n"
     ]
    }
   ],
   "source": [
    "# ?的使用举例：？ 可以匹配前一个字符 0 次或者 1次\n",
    "a = 'xyxyxxx123'\n",
    "b = re.findall('x?',a)\n",
    "print b"
   ]
  },
  {
   "cell_type": "code",
   "execution_count": 8,
   "metadata": {
    "collapsed": false
   },
   "outputs": [
    {
     "name": "stdout",
     "output_type": "stream",
     "text": [
      "['xxIxxfasdjifja134xxlovexx23345sdfxxyouxx']\n"
     ]
    }
   ],
   "source": [
    "'''上面的内容全部都是只需要了解即可，需要掌握的只有下面这一种组合方式(.*?)'''\n",
    "# .*的使用举例：.* 像个胖子，能吃多少吃多少，从第一个xx到最后一个xx只要满足条件就都吃掉\n",
    "# secret_code = 'hadkfalifexxIxxfasdjifja134xxlovexx23345sdfxxyouxx8dfse'\n",
    "b = re.findall('xx.*xx',secret_code)\n",
    "print b"
   ]
  },
  {
   "cell_type": "code",
   "execution_count": 9,
   "metadata": {
    "collapsed": false
   },
   "outputs": [
    {
     "name": "stdout",
     "output_type": "stream",
     "text": [
      "['xxIxx', 'xxlovexx', 'xxyouxx']\n"
     ]
    }
   ],
   "source": [
    "# .*？的使用举例：.*？像个婴儿，少量多餐，只要满足xx～xx就可以，找到尽量多的满足条件的组合\n",
    "c = re.findall('xx.*?xx',secret_code)\n",
    "print c"
   ]
  },
  {
   "cell_type": "code",
   "execution_count": 10,
   "metadata": {
    "collapsed": false
   },
   "outputs": [
    {
     "name": "stdout",
     "output_type": "stream",
     "text": [
      "['I', 'love', 'you']\n",
      "I\n",
      "love\n",
      "you\n"
     ]
    }
   ],
   "source": [
    "# #使用括号与不使用括号的差别：需要的内容放在括号里面，不需要的放在括号外面\n",
    "d = re.findall('xx(.*?)xx',secret_code)\n",
    "print d\n",
    "for each in d:\n",
    "    print each\n"
   ]
  },
  {
   "cell_type": "code",
   "execution_count": 12,
   "metadata": {
    "collapsed": false
   },
   "outputs": [
    {
     "name": "stdout",
     "output_type": "stream",
     "text": [
      "['fsdf']\n"
     ]
    }
   ],
   "source": [
    "# .的使用举例：.可以匹配任意字符，但是换行符 \\n 除外，所以第一行没有找到结尾的xx，第一行信息丢失\n",
    "s = '''sdfxxhello\n",
    "xxfsdfxxworldxxasdf'''\n",
    "\n",
    "d = re.findall('xx(.*?)xx',s)\n",
    "print d"
   ]
  },
  {
   "cell_type": "code",
   "execution_count": 11,
   "metadata": {
    "collapsed": false
   },
   "outputs": [
    {
     "name": "stdout",
     "output_type": "stream",
     "text": [
      "['hello\\n', 'world']\n"
     ]
    }
   ],
   "source": [
    "# .的使用举例：re.S 让 .包括\\n\n",
    "s = '''sdfxxhello\n",
    "xxfsdfxxworldxxasdf'''\n",
    "\n",
    "d = re.findall('xx(.*?)xx',s,re.S)\n",
    "print d"
   ]
  },
  {
   "cell_type": "code",
   "execution_count": 14,
   "metadata": {
    "collapsed": false
   },
   "outputs": [
    {
     "name": "stdout",
     "output_type": "stream",
     "text": [
      "I\n",
      "love\n"
     ]
    }
   ],
   "source": [
    "# 对比findall与search的区别: search 后面的 group(i)， 有几个括号，就可以写到几\n",
    "s2 = 'asdfxxIxx123xxlovexxdfd'\n",
    "f1 = re.search('xx(.*?)xx123xx(.*?)xx',s2).group(1)\n",
    "f2 = re.search('xx(.*?)xx123xx(.*?)xx',s2).group(2)\n",
    "print f1\n",
    "print f2"
   ]
  },
  {
   "cell_type": "code",
   "execution_count": 16,
   "metadata": {
    "collapsed": false
   },
   "outputs": [
    {
     "name": "stdout",
     "output_type": "stream",
     "text": [
      "[('I', 'love')]\n",
      "love\n"
     ]
    }
   ],
   "source": [
    "# findall：如果有3个括号，那么元组里就有3个元素。当有第二串满足下面匹配格式时，就会有两个元组\n",
    "f2 = re.findall('xx(.*?)xx123xx(.*?)xx',s2)\n",
    "print f2     # f2是个列表list，里面有一个元素且是个元组tuple，这个元组里有两个元素 I 和 love\n",
    "print f2[0][1]"
   ]
  },
  {
   "cell_type": "code",
   "execution_count": 19,
   "metadata": {
    "collapsed": false
   },
   "outputs": [
    {
     "name": "stdout",
     "output_type": "stream",
     "text": [
      "123789123\n",
      "123789123\n"
     ]
    }
   ],
   "source": [
    "# sub的使用举例: 替换 s 中符合匹配规律的地方\n",
    "s = '123abcssfasdfas123'\n",
    "# s = '123rrrrr123'\n",
    "output1 = re.sub('123(.*?)123','123789123',s)\n",
    "output2 = re.sub('123(.*?)123','123%d123'%789,s)\n",
    "print output1\n",
    "print output2"
   ]
  },
  {
   "cell_type": "code",
   "execution_count": 20,
   "metadata": {
    "collapsed": false
   },
   "outputs": [
    {
     "name": "stdout",
     "output_type": "stream",
     "text": [
      "['1234567', '555']\n"
     ]
    }
   ],
   "source": [
    "# 匹配数字：更方便的方法匹配出数字\n",
    "a = 'asdfasf1234567fasd555fas'\n",
    "b = re.findall('(\\d+)',a)\n",
    "print b"
   ]
  },
  {
   "cell_type": "markdown",
   "metadata": {},
   "source": [
    "## 2. 用正则表达式抓取 html 内容"
   ]
  },
  {
   "cell_type": "code",
   "execution_count": 21,
   "metadata": {
    "collapsed": true
   },
   "outputs": [],
   "source": [
    "# 要抓取的网址，20页面\n",
    "old_url = 'http://www.jikexueyuan.com/course/android/?pageNum=2'\n",
    "total_page = 20"
   ]
  },
  {
   "cell_type": "code",
   "execution_count": 22,
   "metadata": {
    "collapsed": true
   },
   "outputs": [],
   "source": [
    "# 读取txt的内容放在 html 变量里\n",
    "f = open('text.txt','r')\n",
    "html = f.read()\n",
    "f.close()"
   ]
  },
  {
   "cell_type": "code",
   "execution_count": 23,
   "metadata": {
    "collapsed": false
   },
   "outputs": [
    {
     "name": "stdout",
     "output_type": "stream",
     "text": [
      "极客学院爬虫测试\n"
     ]
    }
   ],
   "source": [
    "#爬取标题：用 search 因为只要找到一个匹配的就不会再去找了，而findall会一直遍历找到尽可能多的，在确定内容只有一个时，用search省时间\n",
    "title = re.search('<title>(.*?)</title>',html,re.S).group(1)\n",
    "print title"
   ]
  },
  {
   "cell_type": "code",
   "execution_count": 25,
   "metadata": {
    "collapsed": false
   },
   "outputs": [
    {
     "name": "stdout",
     "output_type": "stream",
     "text": [
      "['http://jikexueyuan.com/welcome.html', 'http://jikexueyuan.com/1.html', 'http://jikexueyuan.com/2.html', 'http://jikexueyuan.com/3.html']\n",
      "http://jikexueyuan.com/welcome.html\n",
      "http://jikexueyuan.com/1.html\n",
      "http://jikexueyuan.com/2.html\n",
      "http://jikexueyuan.com/3.html\n"
     ]
    }
   ],
   "source": [
    "#爬取链接\n",
    "links = re.findall('href=\"(.*?)\"',html,re.S)\n",
    "print links\n",
    "for each in links:\n",
    "    print each"
   ]
  },
  {
   "cell_type": "code",
   "execution_count": 27,
   "metadata": {
    "collapsed": false
   },
   "outputs": [
    {
     "name": "stdout",
     "output_type": "stream",
     "text": [
      "\r\n",
      "          <li><a href=\"http://jikexueyuan.com/1.html\">这是第一条</a></li>\r\n",
      "          <li><a href=\"http://jikexueyuan.com/2.html\">这是第二条</a></li>\r\n",
      "          <li><a href=\"http://jikexueyuan.com/3.html\">这是第三条</a></li>\r\n",
      "        \n"
     ]
    }
   ],
   "source": [
    "# 抓取部分文字,先大再小\n",
    "# 为了避免符合格式，但是不想要的内容去掉，先放大匹配范围\n",
    "text_field = re.findall('<ul>(.*?)</ul>',html,re.S)[0]\n",
    "print text_field"
   ]
  },
  {
   "cell_type": "code",
   "execution_count": 31,
   "metadata": {
    "collapsed": false
   },
   "outputs": [
    {
     "name": "stdout",
     "output_type": "stream",
     "text": [
      "这是第一条\n",
      "这是第二条\n",
      "这是第三条\n"
     ]
    }
   ],
   "source": [
    "# 再在 the_text 中找到文字的格式\n",
    "the_text = re.findall('\">(.*?)</a>',text_field,re.S)\n",
    "\n",
    "for every_text in the_text:\n",
    "    print every_text"
   ]
  },
  {
   "cell_type": "code",
   "execution_count": null,
   "metadata": {
    "collapsed": true
   },
   "outputs": [],
   "source": [
    "#sub实现翻页\n",
    "for i in range(2,total_page+1):\n",
    "    new_link = re.sub('pageNum=\\d+','pageNum=%d'%i,old_url,re.S)\n",
    "    print new_link"
   ]
  },
  {
   "cell_type": "code",
   "execution_count": 32,
   "metadata": {
    "collapsed": false
   },
   "outputs": [
    {
     "name": "stdout",
     "output_type": "stream",
     "text": [
      "http://www.jikexueyuan.com/course/android/?pageNum=2\n",
      "http://www.jikexueyuan.com/course/android/?pageNum=3\n",
      "http://www.jikexueyuan.com/course/android/?pageNum=4\n",
      "http://www.jikexueyuan.com/course/android/?pageNum=5\n",
      "http://www.jikexueyuan.com/course/android/?pageNum=6\n",
      "http://www.jikexueyuan.com/course/android/?pageNum=7\n",
      "http://www.jikexueyuan.com/course/android/?pageNum=8\n",
      "http://www.jikexueyuan.com/course/android/?pageNum=9\n",
      "http://www.jikexueyuan.com/course/android/?pageNum=10\n",
      "http://www.jikexueyuan.com/course/android/?pageNum=11\n",
      "http://www.jikexueyuan.com/course/android/?pageNum=12\n",
      "http://www.jikexueyuan.com/course/android/?pageNum=13\n",
      "http://www.jikexueyuan.com/course/android/?pageNum=14\n",
      "http://www.jikexueyuan.com/course/android/?pageNum=15\n",
      "http://www.jikexueyuan.com/course/android/?pageNum=16\n",
      "http://www.jikexueyuan.com/course/android/?pageNum=17\n",
      "http://www.jikexueyuan.com/course/android/?pageNum=18\n",
      "http://www.jikexueyuan.com/course/android/?pageNum=19\n",
      "http://www.jikexueyuan.com/course/android/?pageNum=20\n"
     ]
    }
   ],
   "source": [
    "for i in range(2,total_page+1):\n",
    "    new_link = re.sub('pageNum=\\d+','pageNum=%d'%i,old_url,re.S)\n",
    "    print new_link"
   ]
  },
  {
   "cell_type": "markdown",
   "metadata": {},
   "source": [
    "## 3. 半自动爬虫实战：抓取网页上的图片"
   ]
  },
  {
   "cell_type": "code",
   "execution_count": 33,
   "metadata": {
    "collapsed": true
   },
   "outputs": [],
   "source": [
    "import re\n",
    "import requests\n",
    "\n",
    "# 读取源代码文件：手动把目标网页的源代码copy到txt里，读文件，赋值给变量 html\n",
    "f = open('source.txt','r')\n",
    "html = f.read()\n",
    "f.close()"
   ]
  },
  {
   "cell_type": "code",
   "execution_count": 35,
   "metadata": {
    "collapsed": false
   },
   "outputs": [
    {
     "name": "stdout",
     "output_type": "stream",
     "text": [
      "['http://a1.jikexueyuan.com/home/201503/26/8240/5513654be0b6d.jpg', 'http://a1.jikexueyuan.com/home/201503/23/37cd/550f732a07f33.jpg', 'http://a1.jikexueyuan.com/home/201503/24/7f84/5510bdd18a1da.jpg', 'http://a1.jikexueyuan.com/home/201503/19/b308/550a257bd3664.jpg', 'http://a1.jikexueyuan.com/home/201503/18/4dbd/5508de1b9362e.jpg', 'http://a1.jikexueyuan.com/home/201503/13/03cb/5502515f794d2.jpg', 'http://a1.jikexueyuan.com/home/201503/10/12ed/54fe4789d0049.jpg', 'http://a1.jikexueyuan.com/home/201503/03/cbd3/54f510847293b.jpg', 'http://a1.jikexueyuan.com/home/201503/27/89d2/5514b5ef7cc17.jpg', 'http://a1.jikexueyuan.com/home/201503/27/3914/5514b5b9a395f.jpg', 'http://a1.jikexueyuan.com/home/201503/27/edc1/5514b35201b2b.jpg', 'http://a1.jikexueyuan.com/home/201503/27/44cd/5514fe0d1128e.jpg', 'http://a1.jikexueyuan.com/home/201503/26/f432/551370b80ef48.jpg', 'http://a1.jikexueyuan.com/home/201503/26/8240/5513654be0b6d.jpg', 'http://a1.jikexueyuan.com/home/201503/25/1965/55121e683fb10.jpg', 'http://a1.jikexueyuan.com/home/201503/25/7896/55121535e22e5.jpg', 'http://a1.jikexueyuan.com/home/201411/26/21e3/54753bbab52b6.jpg', 'http://a1.jikexueyuan.com/home/201405/20/6a7e/537a6d51e301f.jpg', 'http://a1.jikexueyuan.com/home/201406/03/bc4a/538ce7d68453d.jpg', 'http://a1.jikexueyuan.com/home/201407/07/3fea/53ba984975750.jpg', 'http://a1.jikexueyuan.com/home/201407/15/3055/53c482a560bf7.jpg', 'http://a1.jikexueyuan.com/home/201411/07/3c09/545c9f410d699.jpg', 'http://a1.jikexueyuan.com/home/201503/06/dc72/54f9548575834.jpg', 'http://a1.jikexueyuan.com/home/201502/03/74f2/54d0d9a00b7f7.jpg', 'http://a1.jikexueyuan.com/home/201412/29/b115/54a0b4f21f1de.jpg', 'http://a1.jikexueyuan.com/home/201412/29/5916/54a1151da184c.jpg', 'http://a1.jikexueyuan.com/home/201501/19/d09c/54bc618f6a998.jpg', 'http://a1.jikexueyuan.com/home/201412/30/64f8/54a2bbb17776c.jpg', 'http://a1.jikexueyuan.com/home/201501/20/f8e4/54be45a3314a8.jpg', 'http://a1.jikexueyuan.com/home/201501/26/bbfa/54c59d20cb874.jpg', 'http://a1.jikexueyuan.com/home/201502/03/5ee3/54d0da03d7e79.jpg', 'http://a1.jikexueyuan.com/home/201412/09/0157/548693ebe96f9.jpg', 'http://a1.jikexueyuan.com/home/201503/18/4dbd/5508de1b9362e.jpg', 'http://a1.jikexueyuan.com/home/201503/13/03cb/5502515f794d2.jpg', 'http://a1.jikexueyuan.com/home/201503/03/cbd3/54f510847293b.jpg', 'http://a1.jikexueyuan.com/home/201503/04/2b99/54f661650bd4f.jpg', 'http://a1.jikexueyuan.com/home/201503/10/12ed/54fe4789d0049.jpg', 'http://a1.jikexueyuan.com/home/201411/07/3c09/545c9f410d699.jpg', 'http://a1.jikexueyuan.com/home/201407/27/d212/53d511c267726.jpg', 'http://a1.jikexueyuan.com/home/201411/14/9418/546570c084e0f.jpg', 'http://a1.jikexueyuan.com/home/201503/27/89d2/5514b5ef7cc17.jpg', 'http://a1.jikexueyuan.com/home/201503/27/44cd/5514fe0d1128e.jpg', 'http://a1.jikexueyuan.com/home/201503/17/e08b/55078ca68af57.jpg', 'http://a1.jikexueyuan.com/home/201503/11/6bed/54ffe9a2aee7c.jpg', 'http://a1.jikexueyuan.com/home/201503/06/3f58/54f9531aea046.jpg', 'http://a1.jikexueyuan.com/home/201503/06/cd0b/54f95295582a5.jpg', 'http://a1.jikexueyuan.com/home/201503/06/7a3f/54f9524f05422.jpg', 'http://a1.jikexueyuan.com/home/201503/06/62bc/54f951ab8aec6.jpg']\n"
     ]
    }
   ],
   "source": [
    "#匹配图片网址\n",
    "pic_url = re.findall('img src=\"(.*?)\" class=\"lessonimg\"',html,re.S)\n",
    "i = 0\n",
    "print pic_url"
   ]
  },
  {
   "cell_type": "code",
   "execution_count": 36,
   "metadata": {
    "collapsed": false
   },
   "outputs": [
    {
     "name": "stdout",
     "output_type": "stream",
     "text": [
      "http://a1.jikexueyuan.com/home/201503/26/8240/5513654be0b6d.jpg\n",
      "http://a1.jikexueyuan.com/home/201503/23/37cd/550f732a07f33.jpg\n",
      "http://a1.jikexueyuan.com/home/201503/24/7f84/5510bdd18a1da.jpg\n",
      "http://a1.jikexueyuan.com/home/201503/19/b308/550a257bd3664.jpg\n",
      "http://a1.jikexueyuan.com/home/201503/18/4dbd/5508de1b9362e.jpg\n",
      "http://a1.jikexueyuan.com/home/201503/13/03cb/5502515f794d2.jpg\n",
      "http://a1.jikexueyuan.com/home/201503/10/12ed/54fe4789d0049.jpg\n",
      "http://a1.jikexueyuan.com/home/201503/03/cbd3/54f510847293b.jpg\n",
      "http://a1.jikexueyuan.com/home/201503/27/89d2/5514b5ef7cc17.jpg\n",
      "http://a1.jikexueyuan.com/home/201503/27/3914/5514b5b9a395f.jpg\n",
      "http://a1.jikexueyuan.com/home/201503/27/edc1/5514b35201b2b.jpg\n",
      "http://a1.jikexueyuan.com/home/201503/27/44cd/5514fe0d1128e.jpg\n",
      "http://a1.jikexueyuan.com/home/201503/26/f432/551370b80ef48.jpg\n",
      "http://a1.jikexueyuan.com/home/201503/26/8240/5513654be0b6d.jpg\n",
      "http://a1.jikexueyuan.com/home/201503/25/1965/55121e683fb10.jpg\n",
      "http://a1.jikexueyuan.com/home/201503/25/7896/55121535e22e5.jpg\n",
      "http://a1.jikexueyuan.com/home/201411/26/21e3/54753bbab52b6.jpg\n",
      "http://a1.jikexueyuan.com/home/201405/20/6a7e/537a6d51e301f.jpg\n",
      "http://a1.jikexueyuan.com/home/201406/03/bc4a/538ce7d68453d.jpg\n",
      "http://a1.jikexueyuan.com/home/201407/07/3fea/53ba984975750.jpg\n",
      "http://a1.jikexueyuan.com/home/201407/15/3055/53c482a560bf7.jpg\n",
      "http://a1.jikexueyuan.com/home/201411/07/3c09/545c9f410d699.jpg\n",
      "http://a1.jikexueyuan.com/home/201503/06/dc72/54f9548575834.jpg\n",
      "http://a1.jikexueyuan.com/home/201502/03/74f2/54d0d9a00b7f7.jpg\n",
      "http://a1.jikexueyuan.com/home/201412/29/b115/54a0b4f21f1de.jpg\n",
      "http://a1.jikexueyuan.com/home/201412/29/5916/54a1151da184c.jpg\n",
      "http://a1.jikexueyuan.com/home/201501/19/d09c/54bc618f6a998.jpg\n",
      "http://a1.jikexueyuan.com/home/201412/30/64f8/54a2bbb17776c.jpg\n",
      "http://a1.jikexueyuan.com/home/201501/20/f8e4/54be45a3314a8.jpg\n",
      "http://a1.jikexueyuan.com/home/201501/26/bbfa/54c59d20cb874.jpg\n",
      "http://a1.jikexueyuan.com/home/201502/03/5ee3/54d0da03d7e79.jpg\n",
      "http://a1.jikexueyuan.com/home/201412/09/0157/548693ebe96f9.jpg\n",
      "http://a1.jikexueyuan.com/home/201503/18/4dbd/5508de1b9362e.jpg\n",
      "http://a1.jikexueyuan.com/home/201503/13/03cb/5502515f794d2.jpg\n",
      "http://a1.jikexueyuan.com/home/201503/03/cbd3/54f510847293b.jpg\n",
      "http://a1.jikexueyuan.com/home/201503/04/2b99/54f661650bd4f.jpg\n",
      "http://a1.jikexueyuan.com/home/201503/10/12ed/54fe4789d0049.jpg\n",
      "http://a1.jikexueyuan.com/home/201411/07/3c09/545c9f410d699.jpg\n",
      "http://a1.jikexueyuan.com/home/201407/27/d212/53d511c267726.jpg\n",
      "http://a1.jikexueyuan.com/home/201411/14/9418/546570c084e0f.jpg\n",
      "http://a1.jikexueyuan.com/home/201503/27/89d2/5514b5ef7cc17.jpg\n",
      "http://a1.jikexueyuan.com/home/201503/27/44cd/5514fe0d1128e.jpg\n",
      "http://a1.jikexueyuan.com/home/201503/17/e08b/55078ca68af57.jpg\n",
      "http://a1.jikexueyuan.com/home/201503/11/6bed/54ffe9a2aee7c.jpg\n",
      "http://a1.jikexueyuan.com/home/201503/06/3f58/54f9531aea046.jpg\n",
      "http://a1.jikexueyuan.com/home/201503/06/cd0b/54f95295582a5.jpg\n",
      "http://a1.jikexueyuan.com/home/201503/06/7a3f/54f9524f05422.jpg\n",
      "http://a1.jikexueyuan.com/home/201503/06/62bc/54f951ab8aec6.jpg\n"
     ]
    }
   ],
   "source": [
    "for each in pic_url:\n",
    "    print each"
   ]
  },
  {
   "cell_type": "code",
   "execution_count": 37,
   "metadata": {
    "collapsed": false
   },
   "outputs": [
    {
     "name": "stdout",
     "output_type": "stream",
     "text": [
      "now downloading:http://a1.jikexueyuan.com/home/201503/26/8240/5513654be0b6d.jpg\n",
      "now downloading:http://a1.jikexueyuan.com/home/201503/23/37cd/550f732a07f33.jpg\n",
      "now downloading:http://a1.jikexueyuan.com/home/201503/24/7f84/5510bdd18a1da.jpg\n",
      "now downloading:http://a1.jikexueyuan.com/home/201503/19/b308/550a257bd3664.jpg\n",
      "now downloading:http://a1.jikexueyuan.com/home/201503/18/4dbd/5508de1b9362e.jpg\n",
      "now downloading:http://a1.jikexueyuan.com/home/201503/13/03cb/5502515f794d2.jpg\n",
      "now downloading:http://a1.jikexueyuan.com/home/201503/10/12ed/54fe4789d0049.jpg\n",
      "now downloading:http://a1.jikexueyuan.com/home/201503/03/cbd3/54f510847293b.jpg\n",
      "now downloading:http://a1.jikexueyuan.com/home/201503/27/89d2/5514b5ef7cc17.jpg\n",
      "now downloading:http://a1.jikexueyuan.com/home/201503/27/3914/5514b5b9a395f.jpg\n",
      "now downloading:http://a1.jikexueyuan.com/home/201503/27/edc1/5514b35201b2b.jpg\n",
      "now downloading:http://a1.jikexueyuan.com/home/201503/27/44cd/5514fe0d1128e.jpg\n",
      "now downloading:http://a1.jikexueyuan.com/home/201503/26/f432/551370b80ef48.jpg\n",
      "now downloading:http://a1.jikexueyuan.com/home/201503/26/8240/5513654be0b6d.jpg\n",
      "now downloading:http://a1.jikexueyuan.com/home/201503/25/1965/55121e683fb10.jpg\n",
      "now downloading:http://a1.jikexueyuan.com/home/201503/25/7896/55121535e22e5.jpg\n",
      "now downloading:http://a1.jikexueyuan.com/home/201411/26/21e3/54753bbab52b6.jpg\n",
      "now downloading:http://a1.jikexueyuan.com/home/201405/20/6a7e/537a6d51e301f.jpg\n",
      "now downloading:http://a1.jikexueyuan.com/home/201406/03/bc4a/538ce7d68453d.jpg\n",
      "now downloading:http://a1.jikexueyuan.com/home/201407/07/3fea/53ba984975750.jpg\n",
      "now downloading:http://a1.jikexueyuan.com/home/201407/15/3055/53c482a560bf7.jpg\n",
      "now downloading:http://a1.jikexueyuan.com/home/201411/07/3c09/545c9f410d699.jpg\n",
      "now downloading:http://a1.jikexueyuan.com/home/201503/06/dc72/54f9548575834.jpg\n",
      "now downloading:http://a1.jikexueyuan.com/home/201502/03/74f2/54d0d9a00b7f7.jpg\n",
      "now downloading:http://a1.jikexueyuan.com/home/201412/29/b115/54a0b4f21f1de.jpg\n",
      "now downloading:http://a1.jikexueyuan.com/home/201412/29/5916/54a1151da184c.jpg\n",
      "now downloading:http://a1.jikexueyuan.com/home/201501/19/d09c/54bc618f6a998.jpg\n",
      "now downloading:http://a1.jikexueyuan.com/home/201412/30/64f8/54a2bbb17776c.jpg\n",
      "now downloading:http://a1.jikexueyuan.com/home/201501/20/f8e4/54be45a3314a8.jpg\n",
      "now downloading:http://a1.jikexueyuan.com/home/201501/26/bbfa/54c59d20cb874.jpg\n",
      "now downloading:http://a1.jikexueyuan.com/home/201502/03/5ee3/54d0da03d7e79.jpg\n",
      "now downloading:http://a1.jikexueyuan.com/home/201412/09/0157/548693ebe96f9.jpg\n",
      "now downloading:http://a1.jikexueyuan.com/home/201503/18/4dbd/5508de1b9362e.jpg\n",
      "now downloading:http://a1.jikexueyuan.com/home/201503/13/03cb/5502515f794d2.jpg\n",
      "now downloading:http://a1.jikexueyuan.com/home/201503/03/cbd3/54f510847293b.jpg\n",
      "now downloading:http://a1.jikexueyuan.com/home/201503/04/2b99/54f661650bd4f.jpg\n",
      "now downloading:http://a1.jikexueyuan.com/home/201503/10/12ed/54fe4789d0049.jpg\n",
      "now downloading:http://a1.jikexueyuan.com/home/201411/07/3c09/545c9f410d699.jpg\n",
      "now downloading:http://a1.jikexueyuan.com/home/201407/27/d212/53d511c267726.jpg\n",
      "now downloading:http://a1.jikexueyuan.com/home/201411/14/9418/546570c084e0f.jpg\n",
      "now downloading:http://a1.jikexueyuan.com/home/201503/27/89d2/5514b5ef7cc17.jpg\n",
      "now downloading:http://a1.jikexueyuan.com/home/201503/27/44cd/5514fe0d1128e.jpg\n",
      "now downloading:http://a1.jikexueyuan.com/home/201503/17/e08b/55078ca68af57.jpg\n",
      "now downloading:http://a1.jikexueyuan.com/home/201503/11/6bed/54ffe9a2aee7c.jpg\n",
      "now downloading:http://a1.jikexueyuan.com/home/201503/06/3f58/54f9531aea046.jpg\n",
      "now downloading:http://a1.jikexueyuan.com/home/201503/06/cd0b/54f95295582a5.jpg\n",
      "now downloading:http://a1.jikexueyuan.com/home/201503/06/7a3f/54f9524f05422.jpg\n",
      "now downloading:http://a1.jikexueyuan.com/home/201503/06/62bc/54f951ab8aec6.jpg\n"
     ]
    }
   ],
   "source": [
    "for each in pic_url:\n",
    "    print 'now downloading:' + each\n",
    "    pic = requests.get(each)                       # 用requests的get方法 下载图片\n",
    "    fp = open('pic2\\\\' + str(i) + '.jpg','wb')     # 事先建立好文件夹 pic2，保存到本地文件，文件名是 序号.jpg\n",
    "    fp.write(pic.content)\n",
    "    fp.close()\n",
    "    i += 1"
   ]
  },
  {
   "cell_type": "code",
   "execution_count": null,
   "metadata": {
    "collapsed": true
   },
   "outputs": [],
   "source": []
  }
 ],
 "metadata": {
  "kernelspec": {
   "display_name": "Python 2",
   "language": "python",
   "name": "python2"
  },
  "language_info": {
   "codemirror_mode": {
    "name": "ipython",
    "version": 2
   },
   "file_extension": ".py",
   "mimetype": "text/x-python",
   "name": "python",
   "nbconvert_exporter": "python",
   "pygments_lexer": "ipython2",
   "version": "2.7.12"
  }
 },
 "nbformat": 4,
 "nbformat_minor": 0
}
