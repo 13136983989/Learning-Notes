{
 "cells": [
  {
   "cell_type": "markdown",
   "metadata": {},
   "source": [
    "## softmax"
   ]
  },
  {
   "cell_type": "code",
   "execution_count": 1,
   "metadata": {
    "collapsed": true
   },
   "outputs": [],
   "source": [
    "import numpy as np\n",
    "import random"
   ]
  },
  {
   "cell_type": "code",
   "execution_count": 2,
   "metadata": {
    "collapsed": true
   },
   "outputs": [],
   "source": [
    "def softmax(x):\n",
    "\t\t\t\t\t\t\t\t\t\t\t#x=np.array([[1001,1002],[3,4]])\n",
    "\tif len(x.shape) > 1:\t\t\t\t\t#x.shape=(2, 2)  len(x.shape)=2\t\t\t\t\n",
    "\t\ttmp = np.max(x, axis = 1)\t\t\t#np.max(x, axis = 1)=array([1002,  4])， max in each row\n",
    "\t\tx -= tmp.reshape((x.shape[0], 1))\t#tmp.reshape((x.shape[0], 1))， tmp becomes 2row1column\n",
    "\t\tx = np.exp(x)\t\t\t\t\t\t#xi - max this row, then exp\n",
    "\t\ttmp = np.sum(x, axis = 1)\t\t\t#array([ 1.36787944,  1.36787944])，sum of each row\n",
    "\t\tx /= tmp.reshape((x.shape[0], 1))\t#xi / sum this row\n",
    "\t\n",
    "\telse:\t\t\t\t\t\t\t\t\t#x=[1,2]   x.shape=(2,)   len(x.shape)=1\n",
    "\t\ttmp = np.max(x)\n",
    "\t\tx -= tmp\n",
    "\t\tx = np.exp(x)\n",
    "\t\ttmp = np.sum(x)\n",
    "\t\tx /= tmp\n",
    "\t\n",
    "\treturn x"
   ]
  },
  {
   "cell_type": "markdown",
   "metadata": {},
   "source": [
    "## gradcheck"
   ]
  },
  {
   "cell_type": "code",
   "execution_count": 3,
   "metadata": {
    "collapsed": true
   },
   "outputs": [],
   "source": [
    "# Function: \n",
    "# for each element in x\n",
    "# compare derivative calculated by formular and calculus\n",
    "# f: 1st parameter is cost function, 2nd parameter is gradient\n",
    "def gradcheck_naive(f, x):\n",
    "\t\n",
    "\t#Return an object capturing the current internal state of the generator\n",
    "\trndstate = random.getstate()\t\t\t#why use state??????\n",
    "\trandom.setstate(rndstate)\n",
    "\tfx, grad = f(x)\t\t\t\t\t\t\t#fx=np.sum(x ** 2), grad=x * 2 \n",
    "\th = 1e-4\n",
    "\t\n",
    "\t#Efficient multi-dimensional iterator object to iterate over arrays\n",
    "\t# Iterate over all indexes in x\n",
    "\tit = np.nditer(x, flags=['multi_index'], op_flags=['readwrite'])\t\n",
    "\t\n",
    "\twhile not it.finished:\n",
    "\t\tix = it.multi_index\t\t\t\t\t#starts from (0, 0) then (0, 1)\n",
    "\t\t\n",
    "\t\tx[ix] += h\t\t\t\t\t\t\t#To calculate [f(xi+h)-f(xi-h)] / 2h\n",
    "\t\trandom.setstate(rndstate)\n",
    "\t\tfxh, _ = f(x)\n",
    "\t\tx[ix] -= 2*h\n",
    "\t\trandom.setstate(rndstate)\n",
    "\t\tfxnh, _ = f(x)\n",
    "\t\tx[ix] += h\n",
    "\t\tnumgrad = (fxh - fxnh) / 2 / h\n",
    "\t\t\t\t\t\t\t\t\t\t\t#To compare gradient calculated by formular and calculus\n",
    "\t\treldiff = abs(numgrad - grad[ix]) / max(1, abs(numgrad), abs(grad[ix]))\n",
    "\t\tif reldiff > 1e-5:\n",
    "\t\t\tprint \"Gradient check failed.\"\n",
    "\t\t\tprint \"First gradient error found at index %s\" % str(ix)\n",
    "\t\t\tprint \"Your gradient: %f \\t Numerical gradient: %f\" % (grad[ix], numgrad)\n",
    "\t\t\treturn\n",
    "\t\t\n",
    "\t\tit.iternext()\n",
    "\t\t\n",
    "\tprint \"Gradient check passed\""
   ]
  },
  {
   "cell_type": "markdown",
   "metadata": {},
   "source": [
    "## sigmoid"
   ]
  },
  {
   "cell_type": "code",
   "execution_count": 4,
   "metadata": {
    "collapsed": true
   },
   "outputs": [],
   "source": [
    "def sigmoid(x):\n",
    "\t\n",
    "\tx = 1. / (1 + np.exp(-x))\n",
    "\t\n",
    "\treturn x\n",
    "\n",
    "#input f is the sigmoid function value of your original input x\n",
    "def sigmoid_grad(f):\n",
    "\n",
    "\tf = f * (1-f)\n",
    "\t\n",
    "\treturn f"
   ]
  },
  {
   "cell_type": "markdown",
   "metadata": {},
   "source": [
    "## Neural Network"
   ]
  },
  {
   "cell_type": "code",
   "execution_count": 5,
   "metadata": {
    "collapsed": true
   },
   "outputs": [],
   "source": [
    "N = 20\n",
    "dimensions = [10, 5, 10]\t\t\t\t\t\t\t#Dimension of x, H, y=labels\n",
    "data = np.random.randn(N, dimensions[0])\t\t\t#data.shape, labels.shape = (20, 10)\n",
    "labels = np.zeros((N, dimensions[2]))\n",
    "for i in xrange(N):\n",
    "\tlabels[i, random.randint(0, dimensions[2]-1)] = 1\t#each row randomly set a position to 1\n",
    "\t\n",
    "params = np.random.randn((dimensions[0]+1) * dimensions[1] + \n",
    "\t(dimensions[1]+1) * dimensions[2], )\t\t\t\t#params.shape = (115,)\n"
   ]
  },
  {
   "cell_type": "code",
   "execution_count": 6,
   "metadata": {
    "collapsed": true
   },
   "outputs": [],
   "source": [
    "# Distribute elements in params to W1 b1 W2 b2\n",
    "ofs = 0\n",
    "Dx, H, Dy = (dimensions[0], dimensions[1], dimensions[2])\n",
    "\t\n",
    "W1 = np.reshape(params[ofs:ofs + Dx * H], (Dx, H))\t\t\t\t\t#W1.shape = (10, 5)\n",
    "ofs += Dx * H\n",
    "b1 = np.reshape(params[ofs:ofs + H], (1, H))\t\t\t\t\t\t#b1.shape = (1, 5)\n",
    "ofs += H\n",
    "W2 = np.reshape(params[ofs:ofs + H * Dy], (H, Dy))\t\t\t\t\t#W2.shape = (5, 10)\n",
    "ofs += H * Dy\n",
    "b2 = np.reshape(params[ofs:ofs + Dy], (1, Dy))\t\t\t\t\t\t#b2.shape = (1, 10)"
   ]
  },
  {
   "cell_type": "code",
   "execution_count": 7,
   "metadata": {
    "collapsed": false
   },
   "outputs": [
    {
     "data": {
      "text/plain": [
       "array([[-0.086359  , -1.7893894 ,  1.72879812, -0.37633982, -0.61258456],\n",
       "       [-0.22882234,  0.73135113,  0.77769584, -1.07391963,  0.73834674],\n",
       "       [ 1.50172915, -0.7012838 , -0.5635071 , -0.37266293,  1.74841039],\n",
       "       [-1.50710725,  0.32849134, -1.49382086,  0.25151469, -0.28410388],\n",
       "       [-0.9832677 , -0.49509124, -1.660077  ,  0.10368796,  0.24700598],\n",
       "       [ 0.45922949,  1.02942231, -0.11449204,  0.58113958, -0.63698562],\n",
       "       [-0.38942537,  1.46078631, -2.53980613, -0.02312754, -1.79198136],\n",
       "       [-0.34912294,  0.57365517, -0.04883836,  0.0150068 , -0.4150821 ],\n",
       "       [-1.22877365, -0.89924689, -0.31146598, -1.59621439,  0.65435119],\n",
       "       [ 0.03179186,  0.69071231,  1.69296701, -0.57461252,  0.09830557]])"
      ]
     },
     "execution_count": 7,
     "metadata": {},
     "output_type": "execute_result"
    }
   ],
   "source": [
    "W1"
   ]
  },
  {
   "cell_type": "code",
   "execution_count": 8,
   "metadata": {
    "collapsed": false
   },
   "outputs": [
    {
     "data": {
      "text/plain": [
       "array([[ 1.74739421, -2.52766907,  4.63602874, -0.99422554,  1.18788305],\n",
       "       [ 0.06737661, -1.42986099,  0.65388524,  1.34774694,  1.54353151],\n",
       "       [-0.29748813, -1.18121227,  2.68004763, -1.44619471, -0.90652675],\n",
       "       [ 1.73578308,  2.66167759,  5.60514929, -1.50578679, -1.33226899],\n",
       "       [ 1.49060587, -3.27278625, -3.20716246,  0.52243271,  4.69049248],\n",
       "       [-2.88377063, -2.578496  , -6.28608908,  1.13592949,  0.0573391 ],\n",
       "       [ 1.8516827 ,  0.45395863,  5.42309698, -4.06832975,  2.83581701],\n",
       "       [-2.75855323,  2.56198846,  1.43315557, -2.35535709, -2.74202105],\n",
       "       [-0.05986138, -2.45954458,  5.07502389, -5.28570851,  4.12189691],\n",
       "       [ 1.25845335, -1.67623477,  7.0670415 , -0.26483213,  1.20555565],\n",
       "       [-4.30714775,  7.82231375, -4.76031918, -0.283028  , -3.91621723],\n",
       "       [ 2.87494752,  0.52854677,  6.69335065, -0.40067715, -0.08428161],\n",
       "       [ 1.43050942,  2.30168206, -2.46841334, -0.63324945,  1.85357011],\n",
       "       [ 3.91095724, -0.9530142 ,  3.29233356, -3.04605687,  4.31921373],\n",
       "       [ 1.93754282,  0.29850642,  1.20349111, -2.2288992 ,  6.9527835 ],\n",
       "       [ 3.23512126,  3.73520179, -0.35375922,  2.52962395,  0.713647  ],\n",
       "       [-1.34801513, -2.15573755,  2.0175952 , -2.69255743, -0.8895389 ],\n",
       "       [ 3.020015  , -2.6164853 , -0.47618725,  0.43276956,  2.03838063],\n",
       "       [ 0.72324292, -1.06658503,  0.99159468, -2.11386492,  1.22150288],\n",
       "       [-2.81333178, -1.8388812 , -0.96274847, -1.86283457,  0.22235841]])"
      ]
     },
     "execution_count": 8,
     "metadata": {},
     "output_type": "execute_result"
    }
   ],
   "source": [
    "data.dot(W1)"
   ]
  },
  {
   "cell_type": "code",
   "execution_count": 9,
   "metadata": {
    "collapsed": false
   },
   "outputs": [
    {
     "data": {
      "text/plain": [
       "array([[-1.0605455 , -0.38391412,  0.06158494,  0.50079202, -0.84483032]])"
      ]
     },
     "execution_count": 9,
     "metadata": {},
     "output_type": "execute_result"
    }
   ],
   "source": [
    "b1"
   ]
  },
  {
   "cell_type": "code",
   "execution_count": 10,
   "metadata": {
    "collapsed": false
   },
   "outputs": [
    {
     "data": {
      "text/plain": [
       "array([[ 0.68684871, -2.91158319,  4.69761367, -0.49343352,  0.34305273],\n",
       "       [-0.99316888, -1.81377511,  0.71547018,  1.84853896,  0.69870119],\n",
       "       [-1.35803362, -1.56512639,  2.74163256, -0.94540269, -1.75135707],\n",
       "       [ 0.67523758,  2.27776347,  5.66673422, -1.00499477, -2.17709931],\n",
       "       [ 0.43006037, -3.65670036, -3.14557752,  1.02322473,  3.84566217],\n",
       "       [-3.94431612, -2.96241012, -6.22450414,  1.63672151, -0.78749121],\n",
       "       [ 0.7911372 ,  0.07004452,  5.48468191, -3.56753773,  1.9909867 ],\n",
       "       [-3.81909873,  2.17807434,  1.49474051, -1.85456507, -3.58685137],\n",
       "       [-1.12040688, -2.8434587 ,  5.13660883, -4.78491649,  3.27706659],\n",
       "       [ 0.19790786, -2.06014889,  7.12862644,  0.23595989,  0.36072533],\n",
       "       [-5.36769324,  7.43839963, -4.69873425,  0.21776402, -4.76104755],\n",
       "       [ 1.81440202,  0.14463265,  6.75493559,  0.10011487, -0.92911192],\n",
       "       [ 0.36996393,  1.91776794, -2.4068284 , -0.13245743,  1.0087398 ],\n",
       "       [ 2.85041174, -1.33692832,  3.3539185 , -2.54526485,  3.47438342],\n",
       "       [ 0.87699732, -0.0854077 ,  1.26507605, -1.72810718,  6.10795318],\n",
       "       [ 2.17457576,  3.35128767, -0.29217429,  3.03041597, -0.13118332],\n",
       "       [-2.40856062, -2.53965167,  2.07918013, -2.1917654 , -1.73436922],\n",
       "       [ 1.9594695 , -3.00039942, -0.41460232,  0.93356158,  1.19355032],\n",
       "       [-0.33730258, -1.45049915,  1.05317961, -1.6130729 ,  0.37667256],\n",
       "       [-3.87387728, -2.22279532, -0.90116354, -1.36204255, -0.6224719 ]])"
      ]
     },
     "execution_count": 10,
     "metadata": {},
     "output_type": "execute_result"
    }
   ],
   "source": [
    "data.dot(W1) + b1"
   ]
  },
  {
   "cell_type": "code",
   "execution_count": 12,
   "metadata": {
    "collapsed": true
   },
   "outputs": [],
   "source": [
    "hidden = sigmoid(data.dot(W1) + b1)"
   ]
  },
  {
   "cell_type": "code",
   "execution_count": 13,
   "metadata": {
    "collapsed": false
   },
   "outputs": [
    {
     "data": {
      "text/plain": [
       "array([[ 0.66526554,  0.05158393,  0.99096536,  0.37908505,  0.58493188],\n",
       "       [ 0.27028662,  0.14018249,  0.67160874,  0.86395547,  0.66789975],\n",
       "       [ 0.20456008,  0.17291227,  0.93943905,  0.27981032,  0.14787611],\n",
       "       [ 0.66267495,  0.9070186 ,  0.99655278,  0.26796052,  0.10182591],\n",
       "       [ 0.60588808,  0.02516779,  0.04126589,  0.73560026,  0.97907497],\n",
       "       [ 0.0189966 ,  0.04915324,  0.00197639,  0.83708834,  0.31270761],\n",
       "       [ 0.68807546,  0.51750397,  0.9958673 ,  0.02745047,  0.87984749],\n",
       "       [ 0.02147622,  0.89826323,  0.81678873,  0.1353378 ,  0.02693953],\n",
       "       [ 0.24593582,  0.05502043,  0.99415676,  0.0082856 ,  0.96363363],\n",
       "       [ 0.5493161 ,  0.1130309 ,  0.99919882,  0.55871779,  0.589216  ],\n",
       "       [ 0.00464322,  0.99941212,  0.00902461,  0.55422688,  0.00848405],\n",
       "       [ 0.85989306,  0.53609526,  0.99883624,  0.52500783,  0.28310492],\n",
       "       [ 0.59145026,  0.87188932,  0.08265348,  0.46693397,  0.73277345],\n",
       "       [ 0.94533996,  0.20801565,  0.96623292,  0.07274524,  0.96995005],\n",
       "       [ 0.70619961,  0.47866104,  0.77989868,  0.15082985,  0.99777984],\n",
       "       [ 0.89794306,  0.96614698,  0.42747165,  0.95392946,  0.46725112],\n",
       "       [ 0.08252223,  0.07312478,  0.88886307,  0.1004924 ,  0.15002956],\n",
       "       [ 0.87647553,  0.04740783,  0.39780909,  0.71779729,  0.76737543],\n",
       "       [ 0.41646486,  0.18992476,  0.741385  ,  0.16616242,  0.59307032],\n",
       "       [ 0.02035473,  0.09772206,  0.28881145,  0.20390853,  0.34921946]])"
      ]
     },
     "execution_count": 13,
     "metadata": {},
     "output_type": "execute_result"
    }
   ],
   "source": [
    "hidden"
   ]
  },
  {
   "cell_type": "code",
   "execution_count": 15,
   "metadata": {
    "collapsed": true
   },
   "outputs": [],
   "source": [
    "prediction = softmax(hidden.dot(W2) + b2)"
   ]
  },
  {
   "cell_type": "code",
   "execution_count": 16,
   "metadata": {
    "collapsed": false
   },
   "outputs": [
    {
     "data": {
      "text/plain": [
       "array([[ 0.37591471,  0.02592661,  0.01899812,  0.00541773,  0.0157326 ,\n",
       "         0.00483973,  0.14582068,  0.2522755 ,  0.09127206,  0.06380227],\n",
       "       [ 0.28367236,  0.03853217,  0.01910914,  0.01931276,  0.0236569 ,\n",
       "         0.00814624,  0.29496255,  0.11442976,  0.16611075,  0.03206737],\n",
       "       [ 0.24680205,  0.03131329,  0.06243686,  0.009442  ,  0.0340785 ,\n",
       "         0.01374054,  0.20746283,  0.23752421,  0.07748739,  0.07971232],\n",
       "       [ 0.12291278,  0.00670877,  0.06067634,  0.0044787 ,  0.02071233,\n",
       "         0.01098134,  0.12260692,  0.52175974,  0.06575338,  0.0634097 ],\n",
       "       [ 0.27505427,  0.0534861 ,  0.00850434,  0.03578428,  0.01315435,\n",
       "         0.00517647,  0.27086285,  0.04977741,  0.25494855,  0.03325139],\n",
       "       [ 0.12875119,  0.0570546 ,  0.03399454,  0.05375922,  0.04759961,\n",
       "         0.01366274,  0.39188392,  0.03231193,  0.20989546,  0.0310868 ],\n",
       "       [ 0.33433522,  0.01699837,  0.01389638,  0.00606421,  0.00453218,\n",
       "         0.00630411,  0.1068146 ,  0.38944567,  0.05697265,  0.06463662],\n",
       "       [ 0.11542326,  0.01537752,  0.11596616,  0.01545549,  0.02506801,\n",
       "         0.03424566,  0.21282829,  0.33531762,  0.05986854,  0.07044947],\n",
       "       [ 0.47417578,  0.04535673,  0.01216537,  0.01010745,  0.00466783,\n",
       "         0.00752262,  0.13787679,  0.19729118,  0.04913779,  0.06169846],\n",
       "       [ 0.35287683,  0.02605915,  0.02002267,  0.0067806 ,  0.0185564 ,\n",
       "         0.00560668,  0.17710664,  0.23710967,  0.10510203,  0.05077933],\n",
       "       [ 0.05847871,  0.01901009,  0.10856728,  0.06203882,  0.04429536,\n",
       "         0.04191942,  0.37337032,  0.09411319,  0.15722307,  0.04098373],\n",
       "       [ 0.20191584,  0.0099085 ,  0.03447237,  0.00397774,  0.02531545,\n",
       "         0.00580073,  0.13818258,  0.41763128,  0.10489842,  0.05789708],\n",
       "       [ 0.16341625,  0.02303581,  0.02645955,  0.04475853,  0.01317894,\n",
       "         0.01591303,  0.29099642,  0.15615968,  0.21690355,  0.04917824],\n",
       "       [ 0.42986308,  0.01943356,  0.00840971,  0.00412841,  0.00444796,\n",
       "         0.00317143,  0.08930768,  0.30901569,  0.06581267,  0.06640982],\n",
       "       [ 0.36533763,  0.02285423,  0.011848  ,  0.01019102,  0.00491911,\n",
       "         0.00652875,  0.13875342,  0.29366627,  0.08566415,  0.06023742],\n",
       "       [ 0.12502426,  0.00873159,  0.02901459,  0.01442338,  0.02827866,\n",
       "         0.00821883,  0.24277887,  0.24745896,  0.26384046,  0.03223038],\n",
       "       [ 0.26357893,  0.04238275,  0.06660769,  0.01135089,  0.02992246,\n",
       "         0.0163004 ,  0.20644276,  0.20326608,  0.06510192,  0.09504612],\n",
       "       [ 0.31728685,  0.03274085,  0.01192409,  0.01343208,  0.01935567,\n",
       "         0.00390357,  0.21289679,  0.11216961,  0.23084899,  0.04544151],\n",
       "       [ 0.33427011,  0.03764978,  0.02696007,  0.012739  ,  0.013732  ,\n",
       "         0.00997787,  0.18775712,  0.20928495,  0.08961045,  0.07801865],\n",
       "       [ 0.21672424,  0.06904073,  0.04927567,  0.0390562 ,  0.02677145,\n",
       "         0.02052743,  0.30485803,  0.08303274,  0.11480993,  0.07590358]])"
      ]
     },
     "execution_count": 16,
     "metadata": {},
     "output_type": "execute_result"
    }
   ],
   "source": [
    "prediction"
   ]
  },
  {
   "cell_type": "code",
   "execution_count": 17,
   "metadata": {
    "collapsed": true
   },
   "outputs": [],
   "source": [
    "cost = -np.sum(np.log(prediction) * labels)"
   ]
  },
  {
   "cell_type": "code",
   "execution_count": 18,
   "metadata": {
    "collapsed": false
   },
   "outputs": [
    {
     "data": {
      "text/plain": [
       "68.768467527309085"
      ]
     },
     "execution_count": 18,
     "metadata": {},
     "output_type": "execute_result"
    }
   ],
   "source": [
    "cost"
   ]
  },
  {
   "cell_type": "code",
   "execution_count": 19,
   "metadata": {
    "collapsed": false
   },
   "outputs": [
    {
     "data": {
      "text/plain": [
       "array([[-0.97839301, -3.65248544, -3.96341549, -5.21807823, -4.15202049,\n",
       "        -5.33089692, -1.92537764, -1.37723352, -2.39391059, -2.75196644],\n",
       "       [-1.25993536, -3.25626191, -3.95758829, -3.94698935, -3.74410038,\n",
       "        -4.81019863, -1.2209069 , -2.1677941 , -1.79510054, -3.43991625],\n",
       "       [-1.39916869, -3.46371277, -2.77359946, -4.66258694, -3.37908846,\n",
       "        -4.28740455, -1.57280307, -1.43748573, -2.55764007, -2.5293311 ],\n",
       "       [-2.0962803 , -5.00433904, -2.80220138, -5.40842331, -3.87702616,\n",
       "        -4.51155793, -2.09877178, -0.65054806, -2.7218442 , -2.7581385 ],\n",
       "       [-1.29078686, -2.92833343, -4.76717903, -3.33024647, -4.33100295,\n",
       "        -5.2636322 , -1.30614269, -3.00019409, -1.36669353, -3.40365861],\n",
       "       [-2.04987347, -2.86374663, -3.38155534, -2.92324009, -3.04493075,\n",
       "        -4.29308289, -0.93678961, -3.43231879, -1.5611457 , -3.47097203],\n",
       "       [-1.09561115, -4.07463795, -4.27612691, -5.1053517 , -5.3965521 ,\n",
       "        -5.06655269, -2.23666069, -0.94303092, -2.86518389, -2.7389742 ],\n",
       "       [-2.15914941, -4.17484868, -2.15445686, -4.16979118, -3.68616279,\n",
       "        -3.37419555, -1.54726957, -1.09267708, -2.8156042 , -2.65285962],\n",
       "       [-0.74617719, -3.09319662, -4.40916207, -4.59448204, -5.36706198,\n",
       "        -4.88984052, -1.98139479, -1.62307456, -3.01312698, -2.78549638],\n",
       "       [-1.04163621, -3.64738646, -3.91089017, -4.99368952, -3.98694068,\n",
       "        -5.18379651, -1.73100323, -1.43923248, -2.2528237 , -2.98026584],\n",
       "       [-2.83909245, -3.96278537, -2.22038521, -2.77999496, -3.11687528,\n",
       "        -3.17200605, -0.98518454, -2.36325709, -1.85008965, -3.19458005],\n",
       "       [-1.5999043 , -4.61436218, -3.36759714, -5.52704083, -3.67634055,\n",
       "        -5.14977071, -1.97917943, -0.87315633, -2.25476282, -2.84908829],\n",
       "       [-1.81145464, -3.77070521, -3.63213813, -3.10647328, -4.32913511,\n",
       "        -4.14061724, -1.23444431, -1.85687619, -1.52830249, -3.01230412],\n",
       "       [-0.84428855, -3.94075396, -4.77836838, -5.48986389, -5.41530968,\n",
       "        -5.75357157, -2.41566781, -1.17436324, -2.72094283, -2.71191035],\n",
       "       [-1.00693334, -3.77861893, -4.43559638, -4.58624837, -5.31462752,\n",
       "        -5.0315397 , -1.97505688, -1.22531129, -2.45732086, -2.80946154],\n",
       "       [-2.07924744, -4.74080723, -3.53995656, -4.23890451, -3.56564781,\n",
       "        -4.80132685, -1.41560423, -1.39651052, -1.33241067, -3.43484592],\n",
       "       [-1.3334024 , -3.16101386, -2.70893528, -4.47845879, -3.50914577,\n",
       "        -4.11656566, -1.57773212, -1.59323944, -2.73180121, -2.35339304],\n",
       "       [-1.14794902, -3.41913187, -4.42919419, -4.31010947, -3.94476999,\n",
       "        -5.54586379, -1.5469478 , -2.18774322, -1.46599152, -3.09132919],\n",
       "       [-1.09580589, -3.27942825, -3.61339853, -4.36308716, -4.28802638,\n",
       "        -4.60738584, -1.67260605, -1.56405854, -2.41228331, -2.55080742],\n",
       "       [-1.52912952, -2.67305866, -3.01032489, -3.24275361, -3.62041934,\n",
       "        -3.88599303, -1.1879091 , -2.48852025, -2.16447731, -2.5782914 ]])"
      ]
     },
     "execution_count": 19,
     "metadata": {},
     "output_type": "execute_result"
    }
   ],
   "source": [
    "np.log(prediction)"
   ]
  },
  {
   "cell_type": "code",
   "execution_count": 21,
   "metadata": {
    "collapsed": false
   },
   "outputs": [
    {
     "data": {
      "text/plain": [
       "array([[ 0.,  0.,  0.,  0.,  1.,  0.,  0.,  0.,  0.,  0.],\n",
       "       [ 0.,  0.,  0.,  0.,  0.,  0.,  0.,  0.,  1.,  0.],\n",
       "       [ 0.,  0.,  0.,  0.,  0.,  0.,  0.,  1.,  0.,  0.],\n",
       "       [ 0.,  0.,  0.,  0.,  0.,  1.,  0.,  0.,  0.,  0.],\n",
       "       [ 0.,  0.,  1.,  0.,  0.,  0.,  0.,  0.,  0.,  0.],\n",
       "       [ 0.,  0.,  0.,  0.,  0.,  1.,  0.,  0.,  0.,  0.],\n",
       "       [ 0.,  0.,  0.,  0.,  0.,  0.,  0.,  0.,  1.,  0.],\n",
       "       [ 0.,  0.,  0.,  0.,  0.,  1.,  0.,  0.,  0.,  0.],\n",
       "       [ 0.,  0.,  0.,  0.,  1.,  0.,  0.,  0.,  0.,  0.],\n",
       "       [ 0.,  0.,  0.,  0.,  0.,  1.,  0.,  0.,  0.,  0.],\n",
       "       [ 0.,  0.,  0.,  0.,  0.,  0.,  0.,  0.,  0.,  1.],\n",
       "       [ 0.,  0.,  0.,  0.,  0.,  0.,  0.,  1.,  0.,  0.],\n",
       "       [ 0.,  0.,  0.,  1.,  0.,  0.,  0.,  0.,  0.,  0.],\n",
       "       [ 0.,  1.,  0.,  0.,  0.,  0.,  0.,  0.,  0.,  0.],\n",
       "       [ 0.,  0.,  0.,  0.,  0.,  1.,  0.,  0.,  0.,  0.],\n",
       "       [ 0.,  0.,  0.,  0.,  0.,  0.,  0.,  0.,  1.,  0.],\n",
       "       [ 0.,  0.,  0.,  0.,  0.,  0.,  0.,  0.,  1.,  0.],\n",
       "       [ 0.,  0.,  0.,  0.,  1.,  0.,  0.,  0.,  0.,  0.],\n",
       "       [ 0.,  0.,  0.,  0.,  1.,  0.,  0.,  0.,  0.,  0.],\n",
       "       [ 0.,  0.,  0.,  0.,  0.,  0.,  0.,  0.,  0.,  1.]])"
      ]
     },
     "execution_count": 21,
     "metadata": {},
     "output_type": "execute_result"
    }
   ],
   "source": [
    "labels"
   ]
  },
  {
   "cell_type": "code",
   "execution_count": 22,
   "metadata": {
    "collapsed": false
   },
   "outputs": [
    {
     "data": {
      "text/plain": [
       "array([[-0.        , -0.        , -0.        , -0.        , -4.15202049,\n",
       "        -0.        , -0.        , -0.        , -0.        , -0.        ],\n",
       "       [-0.        , -0.        , -0.        , -0.        , -0.        ,\n",
       "        -0.        , -0.        , -0.        , -1.79510054, -0.        ],\n",
       "       [-0.        , -0.        , -0.        , -0.        , -0.        ,\n",
       "        -0.        , -0.        , -1.43748573, -0.        , -0.        ],\n",
       "       [-0.        , -0.        , -0.        , -0.        , -0.        ,\n",
       "        -4.51155793, -0.        , -0.        , -0.        , -0.        ],\n",
       "       [-0.        , -0.        , -4.76717903, -0.        , -0.        ,\n",
       "        -0.        , -0.        , -0.        , -0.        , -0.        ],\n",
       "       [-0.        , -0.        , -0.        , -0.        , -0.        ,\n",
       "        -4.29308289, -0.        , -0.        , -0.        , -0.        ],\n",
       "       [-0.        , -0.        , -0.        , -0.        , -0.        ,\n",
       "        -0.        , -0.        , -0.        , -2.86518389, -0.        ],\n",
       "       [-0.        , -0.        , -0.        , -0.        , -0.        ,\n",
       "        -3.37419555, -0.        , -0.        , -0.        , -0.        ],\n",
       "       [-0.        , -0.        , -0.        , -0.        , -5.36706198,\n",
       "        -0.        , -0.        , -0.        , -0.        , -0.        ],\n",
       "       [-0.        , -0.        , -0.        , -0.        , -0.        ,\n",
       "        -5.18379651, -0.        , -0.        , -0.        , -0.        ],\n",
       "       [-0.        , -0.        , -0.        , -0.        , -0.        ,\n",
       "        -0.        , -0.        , -0.        , -0.        , -3.19458005],\n",
       "       [-0.        , -0.        , -0.        , -0.        , -0.        ,\n",
       "        -0.        , -0.        , -0.87315633, -0.        , -0.        ],\n",
       "       [-0.        , -0.        , -0.        , -3.10647328, -0.        ,\n",
       "        -0.        , -0.        , -0.        , -0.        , -0.        ],\n",
       "       [-0.        , -3.94075396, -0.        , -0.        , -0.        ,\n",
       "        -0.        , -0.        , -0.        , -0.        , -0.        ],\n",
       "       [-0.        , -0.        , -0.        , -0.        , -0.        ,\n",
       "        -5.0315397 , -0.        , -0.        , -0.        , -0.        ],\n",
       "       [-0.        , -0.        , -0.        , -0.        , -0.        ,\n",
       "        -0.        , -0.        , -0.        , -1.33241067, -0.        ],\n",
       "       [-0.        , -0.        , -0.        , -0.        , -0.        ,\n",
       "        -0.        , -0.        , -0.        , -2.73180121, -0.        ],\n",
       "       [-0.        , -0.        , -0.        , -0.        , -3.94476999,\n",
       "        -0.        , -0.        , -0.        , -0.        , -0.        ],\n",
       "       [-0.        , -0.        , -0.        , -0.        , -4.28802638,\n",
       "        -0.        , -0.        , -0.        , -0.        , -0.        ],\n",
       "       [-0.        , -0.        , -0.        , -0.        , -0.        ,\n",
       "        -0.        , -0.        , -0.        , -0.        , -2.5782914 ]])"
      ]
     },
     "execution_count": 22,
     "metadata": {},
     "output_type": "execute_result"
    }
   ],
   "source": [
    "np.log(prediction) * labels"
   ]
  },
  {
   "cell_type": "code",
   "execution_count": 24,
   "metadata": {
    "collapsed": true
   },
   "outputs": [],
   "source": [
    "delta = prediction - labels\n",
    "gradW2 = hidden.T.dot(delta)\n",
    "gradb2 = np.sum(delta, axis = 0)\n",
    "\t\n",
    "delta = delta.dot(W2.T) * sigmoid_grad(hidden)\n",
    "gradW1 = data.T.dot(delta)\n",
    "gradb1 = np.sum(delta, axis = 0)\n",
    "\t\n",
    "grad = np.concatenate((gradW1.flatten(), gradb1.flatten(),\n",
    "\tgradW2.flatten(), gradb2.flatten()))"
   ]
  },
  {
   "cell_type": "code",
   "execution_count": 34,
   "metadata": {
    "collapsed": false
   },
   "outputs": [
    {
     "data": {
      "text/plain": [
       "(115,)"
      ]
     },
     "execution_count": 34,
     "metadata": {},
     "output_type": "execute_result"
    }
   ],
   "source": [
    "grad.shape"
   ]
  },
  {
   "cell_type": "markdown",
   "metadata": {},
   "source": [
    "# word2vec"
   ]
  },
  {
   "cell_type": "markdown",
   "metadata": {},
   "source": [
    "### some initialization"
   ]
  },
  {
   "cell_type": "code",
   "execution_count": 35,
   "metadata": {
    "collapsed": true
   },
   "outputs": [],
   "source": [
    "def normalizeRows(x):\n",
    "\n",
    "\tN = x.shape[0]\n",
    "\tx /= np.sqrt(np.sum(x**2, axis=1)).reshape((N,1)) + 1e-30\n",
    "\t\n",
    "\treturn x"
   ]
  },
  {
   "cell_type": "code",
   "execution_count": 36,
   "metadata": {
    "collapsed": false
   },
   "outputs": [
    {
     "name": "stdout",
     "output_type": "stream",
     "text": [
      "[[ 0.6         0.8       ]\n",
      " [ 0.4472136   0.89442719]]\n"
     ]
    }
   ],
   "source": [
    "x = normalizeRows(np.array([[3.0, 4.0],[1, 2]]))\n",
    "print x"
   ]
  },
  {
   "cell_type": "code",
   "execution_count": 56,
   "metadata": {
    "collapsed": true
   },
   "outputs": [],
   "source": [
    "dataset = type('dummy', (), {})()"
   ]
  },
  {
   "cell_type": "code",
   "execution_count": 59,
   "metadata": {
    "collapsed": false
   },
   "outputs": [],
   "source": [
    "def dummySampleTokenIdx():\n",
    "\treturn random.randint(0, 4)"
   ]
  },
  {
   "cell_type": "code",
   "execution_count": 60,
   "metadata": {
    "collapsed": false
   },
   "outputs": [
    {
     "data": {
      "text/plain": [
       "3"
      ]
     },
     "execution_count": 60,
     "metadata": {},
     "output_type": "execute_result"
    }
   ],
   "source": [
    "random.randint(0, 4)"
   ]
  },
  {
   "cell_type": "code",
   "execution_count": 62,
   "metadata": {
    "collapsed": true
   },
   "outputs": [],
   "source": [
    "def getRandomContext(C):\n",
    "    tokens = [\"a\", \"b\", \"c\", \"d\", \"e\"]\n",
    "    return tokens[random.randint(0,4)], [tokens[random.randint(0,4)] \\\n",
    "        for i in xrange(2*C)]"
   ]
  },
  {
   "cell_type": "code",
   "execution_count": 69,
   "metadata": {
    "collapsed": true
   },
   "outputs": [],
   "source": [
    "dataset.sampleTokenIdx = dummySampleTokenIdx"
   ]
  },
  {
   "cell_type": "code",
   "execution_count": 70,
   "metadata": {
    "collapsed": false
   },
   "outputs": [
    {
     "data": {
      "text/plain": [
       "<function __main__.dummySampleTokenIdx>"
      ]
     },
     "execution_count": 70,
     "metadata": {},
     "output_type": "execute_result"
    }
   ],
   "source": [
    "dataset.sampleTokenIdx"
   ]
  },
  {
   "cell_type": "code",
   "execution_count": 71,
   "metadata": {
    "collapsed": true
   },
   "outputs": [],
   "source": [
    "dataset.getRandomContext = getRandomContext"
   ]
  },
  {
   "cell_type": "code",
   "execution_count": 72,
   "metadata": {
    "collapsed": false
   },
   "outputs": [
    {
     "data": {
      "text/plain": [
       "<function __main__.getRandomContext>"
      ]
     },
     "execution_count": 72,
     "metadata": {},
     "output_type": "execute_result"
    }
   ],
   "source": [
    "dataset.getRandomContext"
   ]
  },
  {
   "cell_type": "code",
   "execution_count": 73,
   "metadata": {
    "collapsed": true
   },
   "outputs": [],
   "source": [
    "random.seed(31415)"
   ]
  },
  {
   "cell_type": "code",
   "execution_count": 75,
   "metadata": {
    "collapsed": false
   },
   "outputs": [],
   "source": [
    "np.random.seed(9265)"
   ]
  },
  {
   "cell_type": "code",
   "execution_count": 78,
   "metadata": {
    "collapsed": false
   },
   "outputs": [
    {
     "data": {
      "text/plain": [
       "array([[-0.70587231,  0.25710111, -0.35533466],\n",
       "       [ 0.31069259, -2.04599152, -0.56811484],\n",
       "       [ 1.36743115, -1.5807286 ,  0.88547839],\n",
       "       [ 0.70812613,  0.06703542, -0.06339527],\n",
       "       [ 1.93164664, -0.39561042, -1.8199931 ],\n",
       "       [ 0.02396553,  1.12269695, -0.06042891],\n",
       "       [-0.24787301, -0.57285093,  1.13467606],\n",
       "       [-0.62011217, -1.66330779, -1.63206995],\n",
       "       [ 0.35296059,  0.66356772,  2.07439977],\n",
       "       [-0.47973227, -0.16808006,  0.47249777]])"
      ]
     },
     "execution_count": 78,
     "metadata": {},
     "output_type": "execute_result"
    }
   ],
   "source": [
    "np.random.randn(10,3)"
   ]
  },
  {
   "cell_type": "code",
   "execution_count": 79,
   "metadata": {
    "collapsed": true
   },
   "outputs": [],
   "source": [
    "dummy_vectors = normalizeRows(np.random.randn(10,3))"
   ]
  },
  {
   "cell_type": "code",
   "execution_count": 81,
   "metadata": {
    "collapsed": true
   },
   "outputs": [],
   "source": [
    "dummy_tokens = dict([(\"a\",0), (\"b\",1), (\"c\",2), (\"d\",3), (\"e\",4)])"
   ]
  },
  {
   "cell_type": "code",
   "execution_count": 82,
   "metadata": {
    "collapsed": false
   },
   "outputs": [
    {
     "data": {
      "text/plain": [
       "{'a': 0, 'b': 1, 'c': 2, 'd': 3, 'e': 4}"
      ]
     },
     "execution_count": 82,
     "metadata": {},
     "output_type": "execute_result"
    }
   ],
   "source": [
    "dummy_tokens"
   ]
  },
  {
   "cell_type": "markdown",
   "metadata": {},
   "source": [
    "### \"\"\" Softmax cost function for word2vec models \"\"\""
   ]
  },
  {
   "cell_type": "code",
   "execution_count": 83,
   "metadata": {
    "collapsed": true
   },
   "outputs": [],
   "source": [
    "def softmaxCostAndGradient(predicted, target, outputVectors, dataset):\n",
    "\t\"\"\" Softmax cost function for word2vec models \"\"\"\n",
    "\t\n",
    "\tprobabilities = softmax(predicted.dot(outputVectors.T))\n",
    "\tcost = -np.log(probabilities[target])\n",
    "\tdelta = probabilities\n",
    "\tdelta[target] -= 1\n",
    "\tN = delta.shape[0]\n",
    "\tD = predicted.shape[0]\n",
    "\tgrad = delta.reshape((N, 1)) * predicted.reshape((1, D))\n",
    "\tgradPred = (delta.reshape((1, N)).dot(outputVectors)).flatten()\n",
    "\t\n",
    "\treturn cost, gradPred, grad\n"
   ]
  },
  {
   "cell_type": "markdown",
   "metadata": {},
   "source": [
    "### \"\"\" Negative sampling cost function for word2vec models \"\"\""
   ]
  },
  {
   "cell_type": "code",
   "execution_count": 84,
   "metadata": {
    "collapsed": true
   },
   "outputs": [],
   "source": [
    "def negSamplingCostAndGradient(predicted, target, outputVectors, dataset, K=10):\n",
    "\t\"\"\" Negative sampling cost function for word2vec models \"\"\"\n",
    "\t\n",
    "\tgrad = np.zeros(outputVectors.shape)\n",
    "\tgradPred = np.zeros(predicted.shape)\n",
    "\t\n",
    "\tindices = [target]\n",
    "\tfor k in xrange(K):\n",
    "\t\tnewidx = dataset.sampleTokenIdx()\n",
    "\t\twhile newidx == target:\n",
    "\t\t\tnewidx = dataset.sampleTokenIdx()\n",
    "\t\tindices += [newidx]\n",
    "\t\n",
    "\tlabels = np.array([1] + [-1 for k in xrange(K)])\n",
    "\tvecs = outputVectors[indices, :]\n",
    "\t\n",
    "\tt = sigmoid(vecs.dot(predicted) * labels)\n",
    "\tcost = -np.sum(np.log(t))\n",
    "\t\n",
    "\tdelta = labels * (t-1)\n",
    "\tgradPred = delta.reshape((1, K+1)).dot(vecs).flatten()\n",
    "\tgradtemp = delta.reshape((K+1, 1)).dot(predicted.reshape(1, predicted.shape[0]))\n",
    "\t\n",
    "\tfor k in xrange(K+1):\n",
    "\t\tgrad[indices[k]] += gradtemp[k, :]\n",
    "\t\t\n",
    "\treturn cost, gradPred, grad"
   ]
  },
  {
   "cell_type": "markdown",
   "metadata": {},
   "source": [
    "### \"\"\" Skip-gram model in word2vec \"\"\""
   ]
  },
  {
   "cell_type": "code",
   "execution_count": 85,
   "metadata": {
    "collapsed": true
   },
   "outputs": [],
   "source": [
    "def skipgram(currentWord, C, contextWords, tokens, inputVectors, outputVectors,\n",
    "\tdataset, word2vecCostAndGradient = softmaxCostAndGradient):\n",
    "\t\"\"\" Skip-gram model in word2vec \"\"\"\n",
    "\t\n",
    "\tcurrentI = tokens[currentWord]\n",
    "\tpredicted = inputVectors[currentI, :]\n",
    "\t\n",
    "\tcost = 0.0\n",
    "\tgradIn = np.zeros(inputVectors.shape)\n",
    "\tgradOut = np.zeros(outputVectors.shape)\n",
    "\tfor cwd in contextWords:\n",
    "\t\tidx = tokens[cwd]\n",
    "\t\tcc, gp, gg = word2vecCostAndGradient(predicted, idx, outputVectors, dataset)\n",
    "\t\tcost += cc\n",
    "\t\tgradOut += gg\n",
    "\t\tgradIn[currentI, :] += gp\n",
    "\t\n",
    "\treturn cost, gradIn, gradOut"
   ]
  },
  {
   "cell_type": "markdown",
   "metadata": {},
   "source": [
    "### \"\"\" CBOW model in word2vec \"\"\""
   ]
  },
  {
   "cell_type": "code",
   "execution_count": 86,
   "metadata": {
    "collapsed": true
   },
   "outputs": [],
   "source": [
    "def cbow(currentWord, C, contextWords, tokens, inputVectors, outputVectors,\n",
    "\tdataset, word2vecCostAndGradient = softmaxCostAndGradient):\n",
    "\t\"\"\" CBOW model in word2vec \"\"\"\n",
    "\t\n",
    "\tcost = 0\n",
    "\tgradIn = np.zeros(inputVectors.shape)\n",
    "\tgradOut = np.zeros(outputVectors.shape)\n",
    "\t\n",
    "\tD = inputVectors.shape[1]\n",
    "\tpredicted = np.zeros((D, ))\n",
    "\t\n",
    "\tindices = [tokens[cwd] for cwd in contextWords]\n",
    "\tfor idx in indices:\n",
    "\t\tpredicted += inputVectors[idx, :]\n",
    "\t\n",
    "\tcost, gp, gradOut = word2vecCostAndGradient(predicted, tokens[currentWord], outputVectors, dataset)\n",
    "\tgradIn = np.zeros(inputVectors.shape)\n",
    "\tfor idx in indices:\n",
    "\t\tgradIn[idx, :] += gp\n",
    "\t\n",
    "\treturn cost, gradIn, gradOut"
   ]
  },
  {
   "cell_type": "markdown",
   "metadata": {},
   "source": [
    "## word2vec_sgd_wrapper"
   ]
  },
  {
   "cell_type": "code",
   "execution_count": 93,
   "metadata": {
    "collapsed": false
   },
   "outputs": [],
   "source": [
    "\n",
    "def word2vec_sgd_wrapper(word2vecModel, tokens, wordVectors, dataset, C, word2vecCostAndGradient = softmaxCostAndGradient):\n",
    "\tbatchsize = 5\n",
    "\tcost = 0.0\n",
    "\tgrad = np.zeros(wordVectors.shape)\n",
    "\tN = wordVectors.shape[0]\n",
    "\tinputVectors = wordVectors[:N/2, :]\n",
    "\toutputVectors = wordVectors[N/2:, :]\n",
    "\tfor i in xrange(batchsize):\n",
    "\t\tC1 = random.randint(1, C)\n",
    "\t\tcenterword, context = dataset.getRandomContext(C1)\n",
    "\t\t\n",
    "\t\tif word2vecModel == skipgram:\n",
    "\t\t\tdenom = 1\n",
    "\t\telse:\n",
    "\t\t\tdenom = 1\n",
    "\t\t\n",
    "\t\tc, gin, gout = word2vecModel(centerword, C1, context, tokens, inputVectors, outputVectors, dataset, word2vecCostAndGradient)\n",
    "\t\tcost += c / batchsize / denom\n",
    "\t\tgrad[:N/2, :] += gin / batchsize / denom\n",
    "\t\tgrad[N/2:, :] += gout / batchsize / denom\n",
    "\t\n",
    "\treturn cost, grad"
   ]
  },
  {
   "cell_type": "code",
   "execution_count": 89,
   "metadata": {
    "collapsed": false
   },
   "outputs": [
    {
     "data": {
      "text/plain": [
       "array([[-0.61331763,  0.77875956, -0.13181438],\n",
       "       [-0.474378  , -0.55783081,  0.68102151],\n",
       "       [-0.30087076, -0.54142512, -0.78507046],\n",
       "       [ 0.02253624, -0.68215815,  0.73085729],\n",
       "       [-0.61861899, -0.02709019, -0.78522396],\n",
       "       [ 0.24199906, -0.02173036,  0.97003312],\n",
       "       [ 0.07424959,  0.73251154, -0.67669332],\n",
       "       [ 0.67872663, -0.66531069, -0.31095313],\n",
       "       [ 0.7732178 ,  0.41869739,  0.4762633 ],\n",
       "       [-0.47861833, -0.74233518,  0.46889549]])"
      ]
     },
     "execution_count": 89,
     "metadata": {},
     "output_type": "execute_result"
    }
   ],
   "source": [
    "dummy_vectors"
   ]
  },
  {
   "cell_type": "code",
   "execution_count": 94,
   "metadata": {
    "collapsed": false
   },
   "outputs": [
    {
     "data": {
      "text/plain": [
       "(12.016628332220138, array([[ 0.        ,  0.        ,  0.        ],\n",
       "        [-0.46457538, -0.11173218,  0.16258121],\n",
       "        [-0.1913188 , -0.84644701, -0.49131664],\n",
       "        [ 0.1904991 , -0.24900435,  0.69459972],\n",
       "        [ 0.        ,  0.        ,  0.        ],\n",
       "        [-0.15872594, -0.37973335, -0.04377402],\n",
       "        [-0.06560221,  0.26280499, -0.35817857],\n",
       "        [-0.11211205, -0.24245679, -0.7811653 ],\n",
       "        [ 0.44945344,  0.5126397 ,  0.88405186],\n",
       "        [-0.11301324, -0.15325455,  0.29906603]]))"
      ]
     },
     "execution_count": 94,
     "metadata": {},
     "output_type": "execute_result"
    }
   ],
   "source": [
    "word2vec_sgd_wrapper(skipgram, dummy_tokens, dummy_vectors, dataset, 5)"
   ]
  },
  {
   "cell_type": "code",
   "execution_count": 95,
   "metadata": {
    "collapsed": false
   },
   "outputs": [
    {
     "data": {
      "text/plain": [
       "10"
      ]
     },
     "execution_count": 95,
     "metadata": {},
     "output_type": "execute_result"
    }
   ],
   "source": [
    "dummy_vectors.shape[0]"
   ]
  },
  {
   "cell_type": "code",
   "execution_count": 104,
   "metadata": {
    "collapsed": false
   },
   "outputs": [
    {
     "data": {
      "text/plain": [
       "2"
      ]
     },
     "execution_count": 104,
     "metadata": {},
     "output_type": "execute_result"
    }
   ],
   "source": [
    "random.randint(1,5)"
   ]
  },
  {
   "cell_type": "code",
   "execution_count": 105,
   "metadata": {
    "collapsed": false
   },
   "outputs": [
    {
     "data": {
      "text/plain": [
       "('d', ['d', 'd', 'd', 'e', 'a', 'd'])"
      ]
     },
     "execution_count": 105,
     "metadata": {},
     "output_type": "execute_result"
    }
   ],
   "source": [
    "def getRandomContext(C):\n",
    "    tokens = [\"a\", \"b\", \"c\", \"d\", \"e\"]\n",
    "    return tokens[random.randint(0,4)], [tokens[random.randint(0,4)] \\\n",
    "        for i in xrange(2*C)]\n",
    "\n",
    "getRandomContext(3)"
   ]
  },
  {
   "cell_type": "code",
   "execution_count": null,
   "metadata": {
    "collapsed": true
   },
   "outputs": [],
   "source": []
  }
 ],
 "metadata": {
  "kernelspec": {
   "display_name": "Python 2",
   "language": "python",
   "name": "python2"
  },
  "language_info": {
   "codemirror_mode": {
    "name": "ipython",
    "version": 2
   },
   "file_extension": ".py",
   "mimetype": "text/x-python",
   "name": "python",
   "nbconvert_exporter": "python",
   "pygments_lexer": "ipython2",
   "version": "2.7.12"
  }
 },
 "nbformat": 4,
 "nbformat_minor": 0
}
